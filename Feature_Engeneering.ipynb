{
 "cells": [
  {
   "cell_type": "markdown",
   "id": "04dabaa9",
   "metadata": {},
   "source": [
    "Q1: Missing values in a dataset are entries that are empty or undefined for one or more variables. It is essential to handle missing values because they can lead to biased or inaccurate results in data analysis and machine learning models. Some algorithms that are not affected by missing values include decision trees, random forests, and k-nearest neighbors (k-NN).\n",
    "\n",
    "Q2: Techniques to handle missing data:\n",
    "\n",
    "Mean/Median/Mode Imputation: Replace missing values with the mean, median, or mode of the respective feature.\n",
    "Forward Fill/Backward Fill: Fill missing values with the preceding or succeeding value.\n",
    "Interpolation: Fill missing values by estimating values based on existing data points.\n",
    "Deletion: Remove rows or columns with missing values."
   ]
  },
  {
   "cell_type": "code",
   "execution_count": 7,
   "id": "1d7a010b",
   "metadata": {},
   "outputs": [
    {
     "name": "stdout",
     "output_type": "stream",
     "text": [
      "     A    B\n",
      "0  1.0  3.0\n",
      "1  2.0  2.0\n",
      "2  3.0  3.0\n",
      "3  4.0  4.0\n",
      "4  5.0  3.0\n"
     ]
    }
   ],
   "source": [
    "import pandas as pd\n",
    "\n",
    "# Example DataFrame with missing values\n",
    "data = {'A': [1, 2, None, 4, 5],\n",
    "        'B': [None, 2, 3, 4, None]}\n",
    "df = pd.DataFrame(data)\n",
    "\n",
    "# Mean imputation\n",
    "df.fillna(df.mean(), inplace=True)\n",
    "print(df)"
   ]
  },
  {
   "cell_type": "markdown",
   "id": "678192a2",
   "metadata": {},
   "source": [
    "Q3: Imbalanced data refers to a situation where the classes in a classification problem are not represented equally. If imbalanced data is not handled, machine learning models may be biased towards the majority class, leading to poor performance on the minority class and inaccurate predictions.\n",
    "\n",
    "Q4: Up-sampling involves increasing the number of instances in the minority class, while down-sampling involves reducing the number of instances in the majority class. Up-sampling is required when the minority class is underrepresented, while down-sampling is required when the majority class dominates the dataset.\n",
    "\n",
    "Q5: Data augmentation is a technique used to increase the size and diversity of a dataset by applying transformations such as rotation, flipping, or cropping to the existing data. SMOTE (Synthetic Minority Over-sampling Technique) is a specific data augmentation technique used to address class imbalance by generating synthetic samples for the minority class."
   ]
  },
  {
   "cell_type": "markdown",
   "id": "fd353862",
   "metadata": {},
   "source": [
    "Q6: Outliers are data points that significantly differ from the rest of the observations in a dataset. It is essential to handle outliers because they can skew statistical analyses and machine learning models, leading to incorrect conclusions or predictions.\n",
    "\n",
    "Q7: Techniques to handle missing data in analysis include mean imputation, forward fill/backward fill, interpolation, and deletion of rows or columns with missing values.\n",
    "\n",
    "Q8: Strategies to determine if missing data is missing at random or if there is a pattern include visualizing missingness patterns, statistical tests such as Little's MCAR test, and examining correlations between missing values and other variables.\n",
    "\n",
    "Q9: Strategies to evaluate the performance of a machine learning model on an imbalanced dataset include using evaluation metrics such as precision, recall, F1-score, and ROC AUC score, applying techniques like resampling, and using algorithms designed for imbalanced data, such as ensemble methods or cost-sensitive learning.\n",
    "\n",
    "Q10: Methods to balance an unbalanced dataset and down-sample the majority class include random under-sampling, cluster centroids under-sampling, and Tomek links.\n",
    "\n",
    "Q11: Methods to balance an unbalanced dataset and up-sample the minority class include random over-sampling, SMOTE (Synthetic Minority Over-sampling Technique), and ADASYN (Adaptive Synthetic Sampling)."
   ]
  },
  {
   "cell_type": "code",
   "execution_count": null,
   "id": "9109c278",
   "metadata": {},
   "outputs": [],
   "source": []
  }
 ],
 "metadata": {
  "kernelspec": {
   "display_name": "Python 3 (ipykernel)",
   "language": "python",
   "name": "python3"
  },
  "language_info": {
   "codemirror_mode": {
    "name": "ipython",
    "version": 3
   },
   "file_extension": ".py",
   "mimetype": "text/x-python",
   "name": "python",
   "nbconvert_exporter": "python",
   "pygments_lexer": "ipython3",
   "version": "3.9.12"
  }
 },
 "nbformat": 4,
 "nbformat_minor": 5
}
